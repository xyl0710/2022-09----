{
 "cells": [
  {
   "cell_type": "code",
   "execution_count": 34,
   "id": "05da0582",
   "metadata": {},
   "outputs": [],
   "source": [
    "import pandas as pd\n",
    "import numpy as np\n",
    "from datetime import datetime"
   ]
  },
  {
   "cell_type": "code",
   "execution_count": 87,
   "id": "5b449d71",
   "metadata": {},
   "outputs": [],
   "source": [
    "daily1 = pd.read_excel('eb_data.xlsx',sheet_name=0,index_col=0)\n",
    "daily2 = pd.read_excel('eb_data.xlsx',sheet_name=1,index_col=0)\n",
    "weekly1 = pd.read_excel('eb_data.xlsx',sheet_name=2,index_col=0)\n",
    "weekly2 = pd.read_excel('eb_data.xlsx',sheet_name=3,index_col=0)\n",
    "weekly3 = pd.read_excel('eb_data.xlsx',sheet_name=4,index_col=0)\n",
    "weekly4 = pd.read_excel('eb_data.xlsx',sheet_name=5,index_col=0)\n",
    "weekly5 = pd.read_excel('eb_data.xlsx',sheet_name=6,index_col=0)\n",
    "weekly6 = pd.read_excel('eb_data.xlsx',sheet_name=7,index_col=0)\n",
    "weekly7 = pd.read_excel('eb_data.xlsx',sheet_name=8,index_col=0)\n",
    "monthly1 = pd.read_excel('eb_data.xlsx',sheet_name=9,index_col=0).shift(1)\n",
    "monthly2 = pd.read_excel('eb_data.xlsx',sheet_name=10,index_col=0).shift(1)\n",
    "monthly3 = pd.read_excel('eb_data.xlsx',sheet_name=11,index_col=0).shift(1)\n",
    "monthly4 = pd.read_excel('eb_data.xlsx',sheet_name=12,index_col=0).shift(1)"
   ]
  },
  {
   "cell_type": "code",
   "execution_count": 88,
   "id": "ca7c13c8",
   "metadata": {},
   "outputs": [],
   "source": [
    "df_eb = pd.concat([daily1,daily2,weekly1,weekly2,weekly3,weekly4,weekly5,weekly6,weekly7,monthly1,monthly2,monthly3,monthly4],axis=1)"
   ]
  },
  {
   "cell_type": "code",
   "execution_count": 89,
   "id": "ef235207",
   "metadata": {},
   "outputs": [],
   "source": [
    "#df_eb.to_csv('df_eb.csv')"
   ]
  },
  {
   "cell_type": "code",
   "execution_count": null,
   "id": "9b33a581",
   "metadata": {},
   "outputs": [],
   "source": []
  }
 ],
 "metadata": {
  "kernelspec": {
   "display_name": "Python 3 (ipykernel)",
   "language": "python",
   "name": "python3"
  },
  "language_info": {
   "codemirror_mode": {
    "name": "ipython",
    "version": 3
   },
   "file_extension": ".py",
   "mimetype": "text/x-python",
   "name": "python",
   "nbconvert_exporter": "python",
   "pygments_lexer": "ipython3",
   "version": "3.9.7"
  }
 },
 "nbformat": 4,
 "nbformat_minor": 5
}
